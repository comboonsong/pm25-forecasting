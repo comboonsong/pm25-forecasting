{
 "cells": [
  {
   "cell_type": "code",
   "execution_count": 13,
   "metadata": {},
   "outputs": [],
   "source": [
    "# Ingest data"
   ]
  },
  {
   "cell_type": "code",
   "execution_count": 5,
   "metadata": {},
   "outputs": [],
   "source": [
    "import os\n",
    "import glob\n",
    "import pandas as pd"
   ]
  },
  {
   "cell_type": "code",
   "execution_count": 6,
   "metadata": {},
   "outputs": [],
   "source": [
    "def pm25_template_table(date):\n",
    "    row_list = []\n",
    "    columns = ['เขต', 'สถานีตรวจวัด', 'วันที่และเวลา', 'PM10', 'PM2.5', 'CO', 'NO2',\n",
    "                'O3', 'Wind Speed', 'Wind Direction', 'Temperature',\n",
    "                'Relative Humidity', 'Air Pressure']\n",
    "    for i in range(24):\n",
    "        datetime_str = f\"{date} {str(i).zfill(2)}:00\"\n",
    "        row = [None,None,datetime_str] + [None for i in range(len(columns)-3)]\n",
    "        row_list.append(row)\n",
    "    return pd.DataFrame(row_list, columns=columns)\n"
   ]
  },
  {
   "cell_type": "code",
   "execution_count": null,
   "metadata": {},
   "outputs": [
    {
     "name": "stderr",
     "output_type": "stream",
     "text": [
      "/tmp/ipykernel_75868/791464698.py:28: FutureWarning: The behavior of DataFrame concatenation with empty or all-NA entries is deprecated. In a future version, this will no longer exclude empty or all-NA columns when determining the result dtypes. To retain the old behavior, exclude the relevant entries before the concat operation.\n",
      "  df = pd.concat(df_list, axis=0)\n"
     ]
    }
   ],
   "source": [
    "# Get all CSV files recursively\n",
    "csv_files = glob.glob(f\"../data/เขตคลองเตย/**/*.csv\", recursive=True)\n",
    "\n",
    "# Ensure there are CSV files before proceeding\n",
    "if not csv_files:\n",
    "    print(\"No CSV files found. Exiting.\")\n",
    "    exit()\n",
    "\n",
    "# Load all CSV files into a single DuckDB DataFrame\n",
    "df_list = []\n",
    "for file in csv_files:\n",
    "    file_empthy = False\n",
    "    try:\n",
    "        temp_df = pd.read_csv(file)\n",
    "        if temp_df.empty:\n",
    "            file_empthy = True\n",
    "    except:\n",
    "        file_empthy = True\n",
    "\n",
    "    if file_empthy:\n",
    "        date = file.split('/')[-1][:10]\n",
    "        year,month,day = date.split('-')\n",
    "        date_re = f'{int(day)}/{int(month)}/{year}'\n",
    "        temp_df = pm25_template_table(date_re)\n",
    "\n",
    "    df_list.append(temp_df)\n",
    "\n",
    "df = pd.concat(df_list, axis=0) # Warning occurs since df contain all-NA columns"
   ]
  },
  {
   "cell_type": "code",
   "execution_count": 13,
   "metadata": {},
   "outputs": [],
   "source": [
    "df.columns = ['district', 'station', 'datetime_str'] + df.columns[3:].to_list()"
   ]
  },
  {
   "cell_type": "code",
   "execution_count": 17,
   "metadata": {},
   "outputs": [],
   "source": [
    "df['datetime'] = pd.to_datetime(df['datetime_str'], format=\"%d/%m/%Y %H:%M\")"
   ]
  },
  {
   "cell_type": "code",
   "execution_count": 19,
   "metadata": {},
   "outputs": [],
   "source": [
    "df = df.drop(columns=['PM10','CO'])"
   ]
  },
  {
   "cell_type": "code",
   "execution_count": 21,
   "metadata": {},
   "outputs": [
    {
     "name": "stdout",
     "output_type": "stream",
     "text": [
      "<class 'pandas.core.frame.DataFrame'>\n",
      "Index: 16128 entries, 0 to 23\n",
      "Data columns (total 12 columns):\n",
      " #   Column             Non-Null Count  Dtype         \n",
      "---  ------             --------------  -----         \n",
      " 0   district           16008 non-null  object        \n",
      " 1   station            16008 non-null  object        \n",
      " 2   datetime_str       16128 non-null  object        \n",
      " 3   PM2.5              14816 non-null  float64       \n",
      " 4   NO2                15537 non-null  float64       \n",
      " 5   O3                 15629 non-null  float64       \n",
      " 6   Wind Speed         15170 non-null  float64       \n",
      " 7   Wind Direction     15170 non-null  float64       \n",
      " 8   Temperature        15170 non-null  float64       \n",
      " 9   Relative Humidity  15170 non-null  float64       \n",
      " 10  Air Pressure       15148 non-null  float64       \n",
      " 11  datetime           16128 non-null  datetime64[ns]\n",
      "dtypes: datetime64[ns](1), float64(8), object(3)\n",
      "memory usage: 1.6+ MB\n"
     ]
    }
   ],
   "source": [
    "df.info()"
   ]
  },
  {
   "cell_type": "code",
   "execution_count": null,
   "metadata": {},
   "outputs": [],
   "source": [
    "# Fill in missing data\n",
    "# 1. district and station --> corresponding to others since indentical\n",
    "# 2. Numerical values --> interpolate"
   ]
  }
 ],
 "metadata": {
  "kernelspec": {
   "display_name": "pm25-forecast",
   "language": "python",
   "name": "python3"
  },
  "language_info": {
   "codemirror_mode": {
    "name": "ipython",
    "version": 3
   },
   "file_extension": ".py",
   "mimetype": "text/x-python",
   "name": "python",
   "nbconvert_exporter": "python",
   "pygments_lexer": "ipython3",
   "version": "3.10.16"
  }
 },
 "nbformat": 4,
 "nbformat_minor": 2
}
